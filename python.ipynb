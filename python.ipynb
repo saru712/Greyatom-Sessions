import pandas as pd
import numpy as np

pd.Series(data=[1,2,3,4],index=['a','b','c','d'])
dic ={'a':'sarika','b':'pooja','c':'sushant'}
my_pd=pd.Series(dic)
my_pd[:1]
